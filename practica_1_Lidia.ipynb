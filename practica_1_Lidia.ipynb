{
  "nbformat": 4,
  "nbformat_minor": 0,
  "metadata": {
    "colab": {
      "name": "practica_1_Lidia.ipynb",
      "provenance": [],
      "collapsed_sections": []
    },
    "kernelspec": {
      "display_name": "Python 3",
      "language": "python",
      "name": "python3"
    },
    "language_info": {
      "codemirror_mode": {
        "name": "ipython",
        "version": 3
      },
      "file_extension": ".py",
      "mimetype": "text/x-python",
      "name": "python",
      "nbconvert_exporter": "python",
      "pygments_lexer": "ipython3",
      "version": "3.7.3"
    }
  },
  "cells": [
    {
      "cell_type": "markdown",
      "metadata": {
        "id": "pqQw4i8Cf0kU",
        "colab_type": "text"
      },
      "source": [
        "[![Open In Colab](https://colab.research.google.com/assets/colab-badge.svg)](https://colab.research.google.com/github/jhermosillo/diplomado_CDD2019/blob/master/Programación%20en%20Python/notebooks/practica_1_python.ipynb)"
      ]
    },
    {
      "cell_type": "markdown",
      "metadata": {
        "colab_type": "text",
        "id": "4zMzLuXxBDdY"
      },
      "source": [
        "# Ejercicios bases de Python"
      ]
    },
    {
      "cell_type": "markdown",
      "metadata": {
        "colab_type": "text",
        "id": "HAY8IBC4dM62"
      },
      "source": [
        "## Estructuras, asignación y funciones"
      ]
    },
    {
      "cell_type": "markdown",
      "metadata": {
        "colab_type": "text",
        "id": "5OKzkyU6_1kB"
      },
      "source": [
        "### 1. Creando una agenda \n",
        "\n",
        "Utiliza los conceptos básicos de python para crear una agenda telefónica. Deberás completar las funciones crear_agenda, agregar_contacto, eliminimar_contacto y buscar_contacto que se encuentran en las siguientes celdas.\n",
        "\n",
        "* ```crear_agenda()```, esta función devuelve una nueva agenda vacía, elige el tipo de dato que creas adecuado para este proposito.\n",
        "* ```agregar_contacto(agenda, nombre, numero)```, esta función debe permitir agregar un nuevo contacto a la agenda, además si un contacto ya existe con el nombre recibido entonces debes almacenar su nuevo numero sin eliminar el anterior.\n",
        "* ```buscar_contacto(agenda, nombre)```, esta función debe de regresar el o los números registados de un contacto, si el contacto no existe entonces imprimer el mensaje \"Contacto no encontrado en la agenda\".\n",
        "* ```eliminar_contacto(agenda, nombre)```, esta función permite eliminar a un contacto de la agenda, si el contacto no existe entonces imprimer el mensaje \"Contacto no encontrado en la agenda\"."
      ]
    },
    {
      "cell_type": "code",
      "metadata": {
        "id": "-OM2DUGaf0kk",
        "colab_type": "code",
        "colab": {}
      },
      "source": [
        "def crear_agenda():\n",
        "    agenda = {} \n",
        "    return agenda"
      ],
      "execution_count": 0,
      "outputs": []
    },
    {
      "cell_type": "code",
      "metadata": {
        "colab_type": "code",
        "id": "QjsW0Y_M_x4j",
        "colab": {}
      },
      "source": [
        "def agregar_contacto(agenda, nombre, numero):\n",
        "    if nombre in agenda:\n",
        "        if numero not in agenda[nombre]:\n",
        "            agenda[nombre].append(numero)\n",
        "    else:\n",
        "        agenda[nombre] = [numero]\n",
        "    return agenda"
      ],
      "execution_count": 0,
      "outputs": []
    },
    {
      "cell_type": "code",
      "metadata": {
        "id": "XRzP3SJ1f0k6",
        "colab_type": "code",
        "colab": {}
      },
      "source": [
        "agenda = crear_agenda()"
      ],
      "execution_count": 0,
      "outputs": []
    },
    {
      "cell_type": "code",
      "metadata": {
        "id": "bpk8V5utf0lD",
        "colab_type": "code",
        "colab": {
          "base_uri": "https://localhost:8080/",
          "height": 34
        },
        "outputId": "afc7e33f-250f-4207-fb5e-b76180973d55"
      },
      "source": [
        "agenda = agregar_contacto(agenda, \"Javier\", \"1234567890\")\n",
        "print(agenda)"
      ],
      "execution_count": 5,
      "outputs": [
        {
          "output_type": "stream",
          "text": [
            "{'Javier': ['1234567890']}\n"
          ],
          "name": "stdout"
        }
      ]
    },
    {
      "cell_type": "code",
      "metadata": {
        "id": "HCNISomWf0lO",
        "colab_type": "code",
        "colab": {
          "base_uri": "https://localhost:8080/",
          "height": 34
        },
        "outputId": "9cfe3b2b-19f8-4588-ac54-8c63b09da096"
      },
      "source": [
        "agenda = agregar_contacto(agenda, \"Lidia\", \"1234555890\")\n",
        "print(agenda)"
      ],
      "execution_count": 6,
      "outputs": [
        {
          "output_type": "stream",
          "text": [
            "{'Javier': ['1234567890'], 'Lidia': ['1234555890']}\n"
          ],
          "name": "stdout"
        }
      ]
    },
    {
      "cell_type": "code",
      "metadata": {
        "id": "jSXnJHecf0lZ",
        "colab_type": "code",
        "colab": {
          "base_uri": "https://localhost:8080/",
          "height": 34
        },
        "outputId": "0b3988a8-97f6-4419-d7a0-9ec8550dd683"
      },
      "source": [
        "agenda = agregar_contacto(agenda, \"Ulises\", \"1234756890\")\n",
        "print(agenda)"
      ],
      "execution_count": 7,
      "outputs": [
        {
          "output_type": "stream",
          "text": [
            "{'Javier': ['1234567890'], 'Lidia': ['1234555890'], 'Ulises': ['1234756890']}\n"
          ],
          "name": "stdout"
        }
      ]
    },
    {
      "cell_type": "code",
      "metadata": {
        "id": "vNc05vpxf0li",
        "colab_type": "code",
        "colab": {
          "base_uri": "https://localhost:8080/",
          "height": 34
        },
        "outputId": "0e48fcc3-6314-4ad9-f5a4-66b4e8ef5219"
      },
      "source": [
        "agenda = agregar_contacto(agenda, \"Lidia\", \"56598723\")\n",
        "print(agenda)"
      ],
      "execution_count": 8,
      "outputs": [
        {
          "output_type": "stream",
          "text": [
            "{'Javier': ['1234567890'], 'Lidia': ['1234555890', '56598723'], 'Ulises': ['1234756890']}\n"
          ],
          "name": "stdout"
        }
      ]
    },
    {
      "cell_type": "code",
      "metadata": {
        "id": "GLPcRqNkf0ls",
        "colab_type": "code",
        "colab": {}
      },
      "source": [
        "def buscar_contacto(agenda, nombre):\n",
        "    if nombre in agenda:\n",
        "        print(nombre)\n",
        "        for nom in agenda[nombre]:\n",
        "            print(nom)\n",
        "    else:\n",
        "        print('Contacto agregado')\n",
        "    return"
      ],
      "execution_count": 0,
      "outputs": []
    },
    {
      "cell_type": "code",
      "metadata": {
        "id": "F6BeYJj3f0l3",
        "colab_type": "code",
        "colab": {
          "base_uri": "https://localhost:8080/",
          "height": 102
        },
        "outputId": "ebe84801-7d5a-4922-a949-dc29c885b08c"
      },
      "source": [
        "buscar_contacto(agenda, \"Javier\")\n",
        "agenda = agregar_contacto(agenda, \"Javier\", \"0987654321\")\n",
        "buscar_contacto(agenda, \"Javier\")"
      ],
      "execution_count": 10,
      "outputs": [
        {
          "output_type": "stream",
          "text": [
            "Javier\n",
            "1234567890\n",
            "Javier\n",
            "1234567890\n",
            "0987654321\n"
          ],
          "name": "stdout"
        }
      ]
    },
    {
      "cell_type": "code",
      "metadata": {
        "id": "HSFd1pMJf0mB",
        "colab_type": "code",
        "colab": {}
      },
      "source": [
        "def eliminar_contacto(agenda, nombre):\n",
        "    if nombre in agenda:\n",
        "        del agenda[nombre]\n",
        "    else:\n",
        "        print('no existe')\n",
        "    return agenda"
      ],
      "execution_count": 0,
      "outputs": []
    },
    {
      "cell_type": "code",
      "metadata": {
        "colab_type": "code",
        "id": "RkNtzllbBirX",
        "colab": {
          "base_uri": "https://localhost:8080/",
          "height": 34
        },
        "outputId": "dd286858-08b1-4d27-c427-dac0d5bf22e0"
      },
      "source": [
        "agenda = eliminar_contacto(agenda, \"Javier\")\n",
        "print(agenda)"
      ],
      "execution_count": 12,
      "outputs": [
        {
          "output_type": "stream",
          "text": [
            "{'Lidia': ['1234555890', '56598723'], 'Ulises': ['1234756890']}\n"
          ],
          "name": "stdout"
        }
      ]
    },
    {
      "cell_type": "markdown",
      "metadata": {
        "colab_type": "text",
        "id": "3nzzkH6EA88D"
      },
      "source": [
        "# Ejercicios estadística"
      ]
    },
    {
      "cell_type": "markdown",
      "metadata": {
        "colab_type": "text",
        "id": "e5g5CAaOc01h"
      },
      "source": [
        "### Función suma\n",
        "\n",
        "$$\n",
        "    suma(a) = \\sum_{i=1}^{n}a_i\n",
        "$$"
      ]
    },
    {
      "cell_type": "code",
      "metadata": {
        "colab_type": "code",
        "id": "RxWbpZ42c07g",
        "colab": {}
      },
      "source": [
        "def suma(x):\n",
        "    suma = 0\n",
        "    for n in x:\n",
        "        suma = suma + n\n",
        "    return suma"
      ],
      "execution_count": 0,
      "outputs": []
    },
    {
      "cell_type": "code",
      "metadata": {
        "id": "AAxSxBN3f0mg",
        "colab_type": "code",
        "colab": {}
      },
      "source": [
        "assert suma([1, 2, 3, 4, 5]) == 15"
      ],
      "execution_count": 0,
      "outputs": []
    },
    {
      "cell_type": "markdown",
      "metadata": {
        "colab_type": "text",
        "id": "Hc30xEPMc1QC"
      },
      "source": [
        "### Función promedio.\n",
        "\n",
        "$$\n",
        "\t\\bar{x} = \\dfrac{\\sum_{i=1}^{n}x_i}{n}\n",
        "$$"
      ]
    },
    {
      "cell_type": "code",
      "metadata": {
        "colab_type": "code",
        "id": "2KyU6PyCc1VM",
        "colab": {}
      },
      "source": [
        "def promedio(x):\n",
        "    if len(x)==0:\n",
        "        return None\n",
        "    else:\n",
        "        promedio = suma(x) / len(x)\n",
        "    return promedio"
      ],
      "execution_count": 0,
      "outputs": []
    },
    {
      "cell_type": "code",
      "metadata": {
        "id": "z1OdnTBKf0mw",
        "colab_type": "code",
        "colab": {}
      },
      "source": [
        "assert promedio([1, 2, 3, 4, 5]) == 3, \"Error en promedio\""
      ],
      "execution_count": 0,
      "outputs": []
    },
    {
      "cell_type": "markdown",
      "metadata": {
        "colab_type": "text",
        "id": "ImMoE5w4c1of"
      },
      "source": [
        "### Función varianza.\n",
        "$$\n",
        "\\sigma^2 = \\frac{1}{n} \\sum_{i=1}^{n}(x_i - \\bar{x})^2\n",
        "$$"
      ]
    },
    {
      "cell_type": "code",
      "metadata": {
        "colab_type": "code",
        "id": "h0w2PHhLc1tG",
        "colab": {
          "base_uri": "https://localhost:8080/",
          "height": 34
        },
        "outputId": "be81dcdd-aa24-4d88-8976-564e3a34d728"
      },
      "source": [
        "def var(x):\n",
        "    var = 0\n",
        "    promedio = 0\n",
        "    contador = 0\n",
        "    suma = 0\n",
        "    varianza = 0\n",
        "    l = len(x)\n",
        "    \n",
        "    suma = 0\n",
        "    for n in x:\n",
        "        suma = suma + n\n",
        "        \n",
        "    promedio = suma / l\n",
        "    \n",
        "    for n in x:\n",
        "        varianza = varianza + (n - promedio)**2\n",
        "     \n",
        "    var = varianza / l\n",
        "\n",
        "    return var\n",
        "\n",
        "var([1, 2, 3, 4, 5])"
      ],
      "execution_count": 17,
      "outputs": [
        {
          "output_type": "execute_result",
          "data": {
            "text/plain": [
              "2.0"
            ]
          },
          "metadata": {
            "tags": []
          },
          "execution_count": 17
        }
      ]
    },
    {
      "cell_type": "code",
      "metadata": {
        "id": "oBQnXmNif0nA",
        "colab_type": "code",
        "colab": {}
      },
      "source": [
        "assert var([1, 2, 3, 4, 5]) == 2, \"Error en var\""
      ],
      "execution_count": 0,
      "outputs": []
    },
    {
      "cell_type": "markdown",
      "metadata": {
        "colab_type": "text",
        "id": "fxxJeFhbA9Cq"
      },
      "source": [
        "# Ejercicios álgebra lineal"
      ]
    },
    {
      "cell_type": "markdown",
      "metadata": {
        "colab_type": "text",
        "id": "6dXp-owNeqP9"
      },
      "source": [
        "## Vectores con listas"
      ]
    },
    {
      "cell_type": "markdown",
      "metadata": {
        "colab_type": "text",
        "id": "9Du0_NsNc81H"
      },
      "source": [
        "### Ones"
      ]
    },
    {
      "cell_type": "markdown",
      "metadata": {
        "colab_type": "text",
        "id": "DKp9wDLPEZdz"
      },
      "source": [
        "Completa la función ones1D que recibe como parámetros un entero $n$ y retorna una lista de tamaño $n$ con todos sus elementos con el valor $1$.\n",
        "\n",
        "Ejemplo:\n",
        "\n",
        "```\n",
        ">>> ones(5)\n",
        "[1, 1, 1, 1, 1]\n",
        "```\n",
        "\n"
      ]
    },
    {
      "cell_type": "code",
      "metadata": {
        "colab_type": "code",
        "id": "l4j5ka46EulY",
        "colab": {}
      },
      "source": [
        "def ones_1d(n):\n",
        "    ones_list = [1]\n",
        "    ones_list = n*ones_list\n",
        "    return ones_list  "
      ],
      "execution_count": 0,
      "outputs": []
    },
    {
      "cell_type": "markdown",
      "metadata": {
        "colab_type": "text",
        "id": "TBYV7LYqdSJo"
      },
      "source": [
        "Ejecuta la siguiente celda para comprobar la función ones1D:"
      ]
    },
    {
      "cell_type": "code",
      "metadata": {
        "colab_type": "code",
        "id": "QUlEotVIdRno",
        "colab": {
          "base_uri": "https://localhost:8080/",
          "height": 34
        },
        "outputId": "9e3f7c71-e8be-4cdc-b104-043a68667728"
      },
      "source": [
        "assert len(ones_1d(10)) == 10 and  ones_1d(3).count(1) == 3 and sum(ones_1d(5)) == 5  , \"error en la funcion ones_1d\"\n",
        "print(\"La funcion es correcta\")"
      ],
      "execution_count": 20,
      "outputs": [
        {
          "output_type": "stream",
          "text": [
            "La funcion es correcta\n"
          ],
          "name": "stdout"
        }
      ]
    },
    {
      "cell_type": "markdown",
      "metadata": {
        "id": "stvE62iEf0ni",
        "colab_type": "text"
      },
      "source": [
        "### Ones 2D"
      ]
    },
    {
      "cell_type": "markdown",
      "metadata": {
        "colab_type": "text",
        "id": "lxOMWQXXEZp3"
      },
      "source": [
        "Completa la función ones_2d que recibe como parámetros un entero $n$ y un entero $m$ y retorna una lista con $n$ sub-listas cada una de tamaño $m$ con todos sus elementos con el valor 1. En otras palabras, una matriz $n \\times m$ con sus elementos iniciados con valor $1$.\n",
        "\n",
        "Ejemplo:\n",
        "\n",
        "\n",
        "\n",
        "```\n",
        ">>> ones_2d(2, 3)\n",
        "[[1, 1, 1], [1, 1, 1]]\n",
        "```\n",
        "\n"
      ]
    },
    {
      "cell_type": "code",
      "metadata": {
        "colab_type": "code",
        "id": "-xfFmttxFRCw",
        "colab": {}
      },
      "source": [
        "import numpy as np\n",
        "\n",
        "def ones_2d(m, n):\n",
        "    M=[]\n",
        "    for i in range(0,m):\n",
        "        M.append([1]*n)\n",
        "    return M"
      ],
      "execution_count": 0,
      "outputs": []
    },
    {
      "cell_type": "markdown",
      "metadata": {
        "colab_type": "text",
        "id": "yugjWXI9eI4P"
      },
      "source": [
        "Ejecuta la siguiente celda para comprobar la función ones2D:"
      ]
    },
    {
      "cell_type": "code",
      "metadata": {
        "colab_type": "code",
        "id": "i7sZXWsveJBC",
        "colab": {
          "base_uri": "https://localhost:8080/",
          "height": 34
        },
        "outputId": "c69f160a-a537-4abf-f176-3e5afb9849c9"
      },
      "source": [
        "assert len(ones_2d(2, 3)) == 2 and len(ones_2d(2, 3)[0]) == 3 and sum([x_i for sl in ones_2d(3, 2) for x_i in sl]) == 6 , \"error en la funcion ones_2d\"\n",
        "print(\"La funcion es correcta\")"
      ],
      "execution_count": 22,
      "outputs": [
        {
          "output_type": "stream",
          "text": [
            "La funcion es correcta\n"
          ],
          "name": "stdout"
        }
      ]
    },
    {
      "cell_type": "markdown",
      "metadata": {
        "id": "QFk-8PJuf0n1",
        "colab_type": "text"
      },
      "source": [
        "### Producto punto (inner)"
      ]
    },
    {
      "cell_type": "markdown",
      "metadata": {
        "id": "7H2DBuPnf0n3",
        "colab_type": "text"
      },
      "source": [
        "Completa la función ones_2d que recibe como parametros dos listas a, b de la misma longitúd y retorna el producto punto de ambos.\n",
        "\n",
        "El producto punto está definido como:\n",
        "\n",
        "$$a = [a_1 a_2 ... a_n] \\: y \\: b = [b_1 b_2 ... b_n]$$\n",
        "\n",
        "$$\n",
        "a \\cdot b = a_1*b_1 + a_2*b_2 + \\dots + a_n*b_n\n",
        "$$"
      ]
    },
    {
      "cell_type": "code",
      "metadata": {
        "colab_type": "code",
        "id": "OvNCcnXLBBc0",
        "colab": {}
      },
      "source": [
        "def inner(a, b):\n",
        "    prod = 0\n",
        " \n",
        "    if len(a) != len(b):\n",
        "        print('no son del mismo tamaño')\n",
        "        \n",
        "    else:\n",
        "        for i in range(len(a)):\n",
        "            prod += a[i]*b[i]\n",
        "            \n",
        "    return prod"
      ],
      "execution_count": 0,
      "outputs": []
    },
    {
      "cell_type": "code",
      "metadata": {
        "id": "TiOEA_R1f0n_",
        "colab_type": "code",
        "colab": {
          "base_uri": "https://localhost:8080/",
          "height": 34
        },
        "outputId": "fd444844-87b9-4725-beaa-0b5defba0c2b"
      },
      "source": [
        "assert inner([1, 2, 3], [1, 2 ,3]) == 14, \"Error en inner\"\n",
        "print(\"Correcto\")"
      ],
      "execution_count": 24,
      "outputs": [
        {
          "output_type": "stream",
          "text": [
            "Correcto\n"
          ],
          "name": "stdout"
        }
      ]
    },
    {
      "cell_type": "markdown",
      "metadata": {
        "colab_type": "text",
        "id": "6B7dwCC7eqnL"
      },
      "source": [
        "## Matrices con listas de listas"
      ]
    },
    {
      "cell_type": "markdown",
      "metadata": {
        "colab_type": "text",
        "id": "l36RNkUqexzU"
      },
      "source": [
        "### Matriz identidad\n",
        "$$\n",
        "\tI_{ij} = \\begin{cases}\n",
        "\t\t1 & i=j\\\\\n",
        "\t\t0 & i \\neq j\\\\\n",
        "\t\\end{cases}\n",
        "$$"
      ]
    },
    {
      "cell_type": "code",
      "metadata": {
        "colab_type": "code",
        "id": "afcnX6E_eqvP",
        "colab": {
          "base_uri": "https://localhost:8080/",
          "height": 34
        },
        "outputId": "f22cf09e-1503-4ef2-8776-a72c8b95b004"
      },
      "source": [
        "def eye(n):\n",
        "    M = []\n",
        "    for i in range(0,n):\n",
        "        M.append([1]*n)\n",
        "    for i in range(n):\n",
        "        for j in range(n):\n",
        "            if i == j:\n",
        "                M[i][j] = 1\n",
        "            else:\n",
        "                M[i][j] = 0\n",
        "    return M\n",
        "eye(3)"
      ],
      "execution_count": 25,
      "outputs": [
        {
          "output_type": "execute_result",
          "data": {
            "text/plain": [
              "[[1, 0, 0], [0, 1, 0], [0, 0, 1]]"
            ]
          },
          "metadata": {
            "tags": []
          },
          "execution_count": 25
        }
      ]
    },
    {
      "cell_type": "code",
      "metadata": {
        "id": "h1PySq34f0oQ",
        "colab_type": "code",
        "colab": {}
      },
      "source": [
        "assert eye(2) == [[1, 0], [0, 1]], \"Error en eye\""
      ],
      "execution_count": 0,
      "outputs": []
    },
    {
      "cell_type": "markdown",
      "metadata": {
        "colab_type": "text",
        "id": "jLXu_k7CfCqF"
      },
      "source": [
        "### Matriz transpuesta\n",
        "\n",
        "$$C = A^T \\Leftrightarrow c_{ij} = a{ji}$$\n",
        "\n",
        "Por ejemplo, si:\n",
        "\t$$\n",
        "\tA = \\begin{bmatrix}\n",
        "\ta_{11} & a_{12}  \\\\\n",
        "\ta_{21} & a_{22}  \\\\\n",
        "\ta_{31} & a_{32}  \\\\\n",
        "\t\\end{bmatrix}\n",
        "\t$$\n",
        "\tentonces\n",
        "\t$$\n",
        "\tA^T = \\begin{bmatrix}\n",
        "\ta_{11} & a_{21} & a_{31} \\\\\n",
        "\ta_{12} & a_{22} & a_{32} \\\\\n",
        "\t\\end{bmatrix}\n",
        "\t$$"
      ]
    },
    {
      "cell_type": "code",
      "metadata": {
        "colab_type": "code",
        "id": "zKWY09JhfEfa",
        "colab": {}
      },
      "source": [
        "def traspose(A):\n",
        "    A_t = ones_2d(len(A[0]), len(A))\n",
        "    for i in range(len(A)):\n",
        "        for j in range(len(A[0])):\n",
        "            A_t[j][i] = A[i][j]\n",
        "    return A_t"
      ],
      "execution_count": 0,
      "outputs": []
    },
    {
      "cell_type": "code",
      "metadata": {
        "id": "6cPmFUHhf0of",
        "colab_type": "code",
        "colab": {}
      },
      "source": [
        "assert traspose([[1, 2], [3, 4], [5, 6]]) == [[1, 3, 5], [2, 4, 6]], \"Error en traspose\""
      ],
      "execution_count": 0,
      "outputs": []
    },
    {
      "cell_type": "markdown",
      "metadata": {
        "id": "jQcyUJsCf0om",
        "colab_type": "text"
      },
      "source": [
        "### Valida multiplicación\n",
        "\n",
        "```True``` si\n",
        "    $$A \\qquad es \\qquad mxn$$\n",
        "    y\n",
        "    $$B \\qquad es \\qquad nxp$$\n",
        "```False``` en otro caso"
      ]
    },
    {
      "cell_type": "code",
      "metadata": {
        "id": "-DDQRzUef0oo",
        "colab_type": "code",
        "colab": {}
      },
      "source": [
        "def validate_mat_mul(A, B):\n",
        "    val = False\n",
        "    if (len(A[0]) == len(B)):\n",
        "        val = True\n",
        "    return val"
      ],
      "execution_count": 0,
      "outputs": []
    },
    {
      "cell_type": "code",
      "metadata": {
        "id": "3OTtdAUaf0ot",
        "colab_type": "code",
        "colab": {}
      },
      "source": [
        "assert validate_mat_mul([[1, 2], [3, 4]], [[5, 6], [7, 8]]) and \\\n",
        "validate_mat_mul([[1, 2], [3, 4], [5, 6]], [[1, 2, 3], [4, 5, 6]]) and \\\n",
        "not validate_mat_mul([[1, 2, 3], [4, 5, 6], [7, 8, 9]], [[1, 2], [3, 4]]), \"Error en validate_mat_mul\""
      ],
      "execution_count": 0,
      "outputs": []
    },
    {
      "cell_type": "markdown",
      "metadata": {
        "colab_type": "text",
        "id": "RY2TgoGye3pV"
      },
      "source": [
        "### Multiplicación de matrices\n",
        "\n",
        "Si $A \\in \\mathbb{R}^{m \\times n}$ y $B \\in \\mathbb{R}^{n \\times p}$ entonces:\n",
        "$$\n",
        "C = A B \\in \\mathbb{R}^{m \\times p}\\Leftrightarrow c_{ij} = \\sum_{k=1}^{n}a_{ik} b_{kj}\n",
        "$$"
      ]
    },
    {
      "cell_type": "code",
      "metadata": {
        "colab_type": "code",
        "id": "DxFQFm51e-A1",
        "colab": {}
      },
      "source": [
        "def mat_mul(A, B):\n",
        "    C=[]\n",
        "    m=len(A) \n",
        "    p=len(B[0]) \n",
        "    n=len(B)\n",
        "   \n",
        "    for i in range(m):\n",
        "        C.append([0]*p) \n",
        "   \n",
        "    for i in range(m):\n",
        "        for k in range(p):\n",
        "            for j in range(n):\n",
        "                C[i][k]+=A[i][j]*B[j][k]\n",
        "    return C"
      ],
      "execution_count": 0,
      "outputs": []
    },
    {
      "cell_type": "code",
      "metadata": {
        "id": "RSX-FvZBf0o8",
        "colab_type": "code",
        "colab": {}
      },
      "source": [
        "assert mat_mul([[1, 2], [3, 4], [5, 6]], [[2, 2], [2, 2]]) == [[6, 6], [14, 14], [22, 22]], \"Error en mat_mul\""
      ],
      "execution_count": 0,
      "outputs": []
    }
  ]
}